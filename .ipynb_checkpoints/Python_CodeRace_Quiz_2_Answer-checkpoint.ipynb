{
 "metadata": {
  "name": "",
  "signature": "sha256:43f48276ebd50005ad6af5a697dcea2547c0398b44135cb35f1028ab225c89ce"
 },
 "nbformat": 3,
 "nbformat_minor": 0,
 "worksheets": [
  {
   "cells": [
    {
     "cell_type": "heading",
     "level": 1,
     "metadata": {},
     "source": [
      "Python Code Race Quiz #2"
     ]
    },
    {
     "cell_type": "markdown",
     "metadata": {},
     "source": [
      "### \ubb38\uc790\uc5f4 \ub2e4\ub8e8\uae30\uc640 \uad00\ub828\ub41c \ubb38\uc81c\uc785\ub2c8\ub2e4.\n",
      "\n",
      "\ud2b9\uc815 \uba54\uc2dc\uc9c0\ub97c \uc554\ud638\ud654 \ud558\ub294 \ubc29\ubc95\uc740 \uc624\ub7ab \ub3d9\uc548 \ub2e4\uc591\ud558\uac8c \uc5f0\uad6c\ub418\uc5c8\ub2e4.\n",
      "\n",
      "\uadf8\ub7ec\ud55c \ubc29\ubc95\ub4e4 \uc911\uc5d0\uc11c \uac00\uc7a5 \uac04\ub2e8\ud55c \ubc29\ubc95\uc744 \uc0dd\uac01\ud574\ubcf4\uc790.\n",
      "\n",
      "\ud2b9\uc815 \ubb38\uc790\uc5f4\uc744 \uc785\ub825\ubc1b\ub294\ub2e4. \ud3b8\uc758\uc0c1 \ubb38\uc790\uc5f4\uc5d0 \uacf5\ubc31\uc740 \uc5c6\uc73c\uba70, \uc601\ubb38 \ub300\uc18c\ubb38\uc790\uac00 \uc785\ub825\uc73c\ub85c \ub4e4\uc5b4\uc628\ub2e4. \uadf8\ub7ec\ud55c \ub2e4\uc74c \ubb38\uc790\uc5f4\uc758 \uac01 \ubb38\uc790\uc5d0 \ub9e8 \uc67c\ucabd\ubd80\ud130 \ud558\ub098\uc529 0, 1, 2, 3, ... \uacfc \uac19\uc774 \ubc88\ud638\ub97c \ub9e4\uae34\ub2e4.\n",
      "\n",
      "\ub9cc\uc57d \uc554\ud638\ud654 \ud558\ub824\uace0 \ud558\ub294 \ubb38\uc790\uc5f4\uc774 'HelloWorld' \uac00 \ub4e4\uc5b4\uc654\uc744 \uacbd\uc6b0, \ub2e4\uc74c\uacfc \uac19\uc774 \ubc88\ud638\uac00 \ubd99\uac8c \ub41c\ub2e4.\n",
      "\n",
      "0\t1\t2\t3\t4\t5\t6\t7\t8\t9\n",
      "H\te\tl\tl\to\tW\to\tr\tl\td\n",
      "\n",
      "\uadf8 \ub2e4\uc74c \uc9dd\uc218 \ubc88\ud638(2\ub85c \ub098\ub220 \ub5a8\uc5b4\uc9c0\ub294 \uc22b\uc790, 0\ub3c4 \uc9dd\uc218\uc5d0 \ud3ec\ud568\ud55c\ub2e4.) \uac00 \ubd99\uc740 \ubb38\uc790\ub4e4\uc744 \ubc88\ud638\uac00 \ube60\ub978 \uc21c\uc73c\ub85c \ub2e4\uc74c\uacfc \uac19\uc774 \ubd99\uc774\uace0, \uadf8 \ub2e4\uc74c \ud640\uc218 \ubc88\ud638\uac00 \uac00 \ubd99\uc740 \ubb38\uc790\ub4e4\uc744 \ubc88\ud638\uac00 \ube60\ub978 \uc21c\uc73c\ub85c \uadf8 \ub4a4\uc5d0\ubd99\uc778\ub2e4. \uc704\uc758 'HelloWorld'\uc5d0 \uc801\uc6a9\ud560 \uacbd\uc6b0 \uacb0\uacfc\ub294 \ub2e4\uc74c\uacfc \uac19\ub2e4.\n",
      "\n",
      "\n",
      "HloolelWrd\n",
      "\n",
      "\ubb38\uc790\uc5f4\uc744 \uc785\ub825\ubc1b\uc740 \ub2e4\uc74c, \uc704\uc5d0 \uc18c\uac1c\ud55c \uc554\ud638\ud654\ub97c \uc218\ud589\ud558\ub294 \ud504\ub85c\uadf8\ub7a8\uc744 \uc791\uc131\ud558\ub77c.\n",
      "\n"
     ]
    },
    {
     "cell_type": "code",
     "collapsed": false,
     "input": [
      "def encrypt(string):\n",
      "    left = []\n",
      "    right = []\n",
      "    for i, char in enumerate(string):\n",
      "        if i % 2 == 0:\n",
      "            left.append(char)\n",
      "        else:\n",
      "            right.append(char)\n",
      "    return \"\".join(left) + \"\".join(right)\n",
      "\n",
      "print(encrypt(\"HelloWorld\"))"
     ],
     "language": "python",
     "metadata": {},
     "outputs": [
      {
       "output_type": "stream",
       "stream": "stdout",
       "text": [
        "HloolelWrd\n"
       ]
      }
     ],
     "prompt_number": 2
    }
   ],
   "metadata": {}
  }
 ]
}