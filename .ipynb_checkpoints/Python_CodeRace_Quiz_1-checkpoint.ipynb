{
 "metadata": {
  "name": "",
  "signature": "sha256:09d61c3e33a14ab7b38ae4fdc5856b82363879862ffee295b797939c70846c27"
 },
 "nbformat": 3,
 "nbformat_minor": 0,
 "worksheets": [
  {
   "cells": [
    {
     "cell_type": "heading",
     "level": 1,
     "metadata": {},
     "source": [
      "Python Code Race Quiz #1"
     ]
    },
    {
     "cell_type": "markdown",
     "metadata": {},
     "source": [
      "### Python Functional Programming \uacfc \uad00\ub828\ub41c \ubb38\uc81c\uc785\ub2c8\ub2e4.\n",
      "\n",
      "\ud30c\uc774\uc36c\uc5d0\uc11c \ub9ac\uc2a4\ud2b8\ub97c \uc815\uc758\ud560 \uc218 \uc788\ub294 \ubc29\ubc95\uc740 \ud06c\uac8c 3\uac00\uc9c0 \uc785\ub2c8\ub2e4.\n",
      "\n",
      "1. \uc9c1\uc811 \uc785\ub825\ud558\uae30\n",
      "2. List Comprehension \uc774\uc6a9\ud558\uae30\n",
      "3. Lambda + filter/map \uc774\uc6a9\ud558\uae30"
     ]
    },
    {
     "cell_type": "code",
     "collapsed": false,
     "input": [
      "a = [(0, 0), (1, 1), (2, 2), (3, 3), (4, 4)]"
     ],
     "language": "python",
     "metadata": {},
     "outputs": [],
     "prompt_number": 1
    },
    {
     "cell_type": "code",
     "collapsed": false,
     "input": [
      "b = [(x, y) \n",
      "     for x in range(5)\n",
      "     for y in range(5)\n",
      "     if x == y]\n",
      "\n",
      "print(b)"
     ],
     "language": "python",
     "metadata": {},
     "outputs": [
      {
       "output_type": "stream",
       "stream": "stdout",
       "text": [
        "[(0, 0), (1, 1), (2, 2), (3, 3), (4, 4)]\n"
       ]
      }
     ],
     "prompt_number": 2
    },
    {
     "cell_type": "code",
     "collapsed": false,
     "input": [
      "c = filter(lambda x: x[0] == x[1],\n",
      "           [(x, y)\n",
      "            for x in range(5)\n",
      "            for y in range(5)])\n",
      "\n",
      "print(c)"
     ],
     "language": "python",
     "metadata": {},
     "outputs": [
      {
       "output_type": "stream",
       "stream": "stdout",
       "text": [
        "[(0, 0), (1, 1), (2, 2), (3, 3), (4, 4)]\n"
       ]
      }
     ],
     "prompt_number": 3
    },
    {
     "cell_type": "markdown",
     "metadata": {},
     "source": [
      "### \ubb38\uc81c : 1\ubd80\ud130 30\uae4c\uc9c0\uc758 \uc790\uc5f0\uc218 \uc911\uc5d0\uc11c \ub454\uac01\uc0bc\uac01\ud615\uc744 \ub9cc\ub4dc\ub294 \ubaa8\ub4e0 \uc870\ud569\uc744 \ucd9c\ub825\ud558\uc2dc\uc624. ( \ub2e8, List Comprehension\uacfc Lambda\uc758 \ub450 \uac00\uc9c0 \ubc29\uc2dd\uc73c\ub85c \uad6c\ud604\ud558\uc2dc\uc624. )"
     ]
    }
   ],
   "metadata": {}
  }
 ]
}